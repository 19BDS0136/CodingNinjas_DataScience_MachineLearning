{
 "cells": [
  {
   "cell_type": "markdown",
   "metadata": {},
   "source": [
    "### Functions"
   ]
  },
  {
   "cell_type": "code",
   "execution_count": 2,
   "metadata": {},
   "outputs": [
    {
     "name": "stdout",
     "output_type": "stream",
     "text": [
      "4\n",
      "2\n",
      "6\n"
     ]
    }
   ],
   "source": [
    "# Let us make a program and through it try to understand why we need functions\n",
    "\n",
    "#Program to find nCr\n",
    "\n",
    "n = int(input())\n",
    "r = int(input())\n",
    "\n",
    "n_fact = 1\n",
    "\n",
    "for i in range(1, n + 1):\n",
    "    n_fact = n_fact*i\n",
    "\n",
    "r_fact = 1\n",
    "\n",
    "for i in range(1, r + 1):\n",
    "    r_fact = r_fact*i\n",
    "    \n",
    "n_r_fact = 1\n",
    "\n",
    "for i in range(1, n - r + 1):\n",
    "    n_r_fact = n_r_fact*i\n",
    "    \n",
    "ans = n_fact//(r_fact * n_r_fact)\n",
    "\n",
    "print (ans)\n",
    "\n",
    "# In the above code, we have repeated the almost the same code 3 times.\n",
    "# We would like if we had return some method fact which asks n and computes n!"
   ]
  },
  {
   "cell_type": "code",
   "execution_count": 4,
   "metadata": {},
   "outputs": [
    {
     "data": {
      "text/plain": [
       "720"
      ]
     },
     "execution_count": 4,
     "metadata": {},
     "output_type": "execute_result"
    }
   ],
   "source": [
    "# Functions allow you to create block of code which you can call from anywhere\n",
    "\n",
    "# Syntax for function: def fact(n)\n",
    "\n",
    "def fact(n):\n",
    "    n_fact = 1\n",
    "    \n",
    "    for i in range(1, n + 1):\n",
    "        n_fact = n_fact*i\n",
    "    \n",
    "    return n_fact\n",
    "\n",
    "fact(6)"
   ]
  },
  {
   "cell_type": "code",
   "execution_count": 5,
   "metadata": {},
   "outputs": [
    {
     "data": {
      "text/plain": [
       "40320"
      ]
     },
     "execution_count": 5,
     "metadata": {},
     "output_type": "execute_result"
    }
   ],
   "source": [
    "# You can also store the value which was returned by function\n",
    "\n",
    "a = fact(8)\n",
    "a"
   ]
  },
  {
   "cell_type": "code",
   "execution_count": 9,
   "metadata": {},
   "outputs": [
    {
     "name": "stdout",
     "output_type": "stream",
     "text": [
      "10\n",
      "2\n",
      "45\n"
     ]
    }
   ],
   "source": [
    "n = int(input())\n",
    "r = int(input())\n",
    "n_fact = fact(n)\n",
    "r_fact = fact(r)\n",
    "n_r_fact = fact(n-r)\n",
    "ans = n_fact//(r_fact * n_r_fact)\n",
    "print(ans)"
   ]
  },
  {
   "cell_type": "code",
   "execution_count": 10,
   "metadata": {},
   "outputs": [],
   "source": [
    "# Another place to use functions are Readability, Testability"
   ]
  },
  {
   "cell_type": "code",
   "execution_count": 11,
   "metadata": {},
   "outputs": [],
   "source": [
    "# Function to check if it is prime\n",
    "\n",
    "def isPrime(n):\n",
    "    for d in range(2, n):\n",
    "        if (n % d == 0):\n",
    "            break\n",
    "        \n",
    "    else:\n",
    "        return True\n",
    "    \n",
    "    return False"
   ]
  },
  {
   "cell_type": "code",
   "execution_count": 12,
   "metadata": {},
   "outputs": [
    {
     "data": {
      "text/plain": [
       "False"
      ]
     },
     "execution_count": 12,
     "metadata": {},
     "output_type": "execute_result"
    }
   ],
   "source": [
    "isPrime(10)"
   ]
  },
  {
   "cell_type": "code",
   "execution_count": 13,
   "metadata": {},
   "outputs": [
    {
     "data": {
      "text/plain": [
       "True"
      ]
     },
     "execution_count": 13,
     "metadata": {},
     "output_type": "execute_result"
    }
   ],
   "source": [
    "isPrime(31)"
   ]
  },
  {
   "cell_type": "code",
   "execution_count": 14,
   "metadata": {},
   "outputs": [],
   "source": [
    "# Print all prime numbers from 2 to n\n",
    "\n",
    "def printPrime(n):\n",
    "    for k in range(2, n + 1):\n",
    "        # check if k is prime and in case it is prime print k\n",
    "        is_k_prime = isPrime(k)\n",
    "        if(is_k_prime):\n",
    "            print(k)"
   ]
  },
  {
   "cell_type": "code",
   "execution_count": 19,
   "metadata": {},
   "outputs": [
    {
     "name": "stdout",
     "output_type": "stream",
     "text": [
      "2\n",
      "3\n",
      "5\n",
      "7\n",
      "11\n",
      "13\n",
      "17\n",
      "19\n"
     ]
    }
   ],
   "source": [
    "printPrime(20)"
   ]
  },
  {
   "cell_type": "code",
   "execution_count": 20,
   "metadata": {},
   "outputs": [],
   "source": [
    "# Function to calculate nCr\n",
    "\n",
    "def ncr(n, r):\n",
    "    n_fact = fact(n)\n",
    "    r_fact = fact(r)\n",
    "    n_r_fact = fact(n-r)\n",
    "    ans = n_fact//(r_fact * n_r_fact)\n",
    "    return ans\n",
    "    "
   ]
  },
  {
   "cell_type": "code",
   "execution_count": 21,
   "metadata": {},
   "outputs": [
    {
     "data": {
      "text/plain": [
       "3003"
      ]
     },
     "execution_count": 21,
     "metadata": {},
     "output_type": "execute_result"
    }
   ],
   "source": [
    "ncr(15, 5)"
   ]
  },
  {
   "cell_type": "code",
   "execution_count": 22,
   "metadata": {},
   "outputs": [
    {
     "data": {
      "text/plain": [
       "10"
      ]
     },
     "execution_count": 22,
     "metadata": {},
     "output_type": "execute_result"
    }
   ],
   "source": [
    "ncr(5, 3)"
   ]
  },
  {
   "cell_type": "markdown",
   "metadata": {},
   "source": [
    "#### A call stack is a stack data structure that stores information about the active subroutines of a  program."
   ]
  },
  {
   "cell_type": "code",
   "execution_count": null,
   "metadata": {},
   "outputs": [],
   "source": [
    "# How does lists work along with functions"
   ]
  }
 ],
 "metadata": {
  "kernelspec": {
   "display_name": "Python 3",
   "language": "python",
   "name": "python3"
  },
  "language_info": {
   "codemirror_mode": {
    "name": "ipython",
    "version": 3
   },
   "file_extension": ".py",
   "mimetype": "text/x-python",
   "name": "python",
   "nbconvert_exporter": "python",
   "pygments_lexer": "ipython3",
   "version": "3.6.8"
  }
 },
 "nbformat": 4,
 "nbformat_minor": 2
}
